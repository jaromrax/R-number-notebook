{
 "cells": [
  {
   "cell_type": "markdown",
   "metadata": {},
   "source": [
    "# R number \n",
    "\n",
    "*a toy to see the link between recurent calculation in generations and exponential function, that can be fitted to the experimental data*"
   ]
  },
  {
   "cell_type": "markdown",
   "metadata": {},
   "source": [
    "## Recurent part 1\n",
    "\n",
    "- the the `get_curve1` does a recurent calculation with R\n",
    "   - R is the infamous `R` nuber\n",
    "   \n",
    "The graph demonstrates the exponential rise, that stems from calculations from generation to generation.\n",
    "\n",
    "\n"
   ]
  },
  {
   "cell_type": "code",
   "execution_count": 19,
   "metadata": {},
   "outputs": [
    {
     "data": {
      "text/plain": [
       "<matplotlib.legend.Legend at 0x7f0c33c2aa60>"
      ]
     },
     "execution_count": 19,
     "metadata": {},
     "output_type": "execute_result"
    },
    {
     "data": {
      "image/png": "[encoded data removed]",
      "text/plain": [
       "<Figure size 432x288 with 1 Axes>"
      ]
     },
     "metadata": {
      "needs_background": "light"
     },
     "output_type": "display_data"
    }
   ],
   "source": [
    "import numpy as np\n",
    "import matplotlib.pyplot as plt\n",
    "from iminuit import Minuit\n",
    "\n",
    "\n",
    "# recurent calculation: generation[n+1] =  generation[n] *R\n",
    "#   N0 - number of cases in day 1\n",
    "#   T0 - day 1\n",
    "GENERATIONS = 18 # generations\n",
    "R = 1.4     # R\n",
    "\n",
    "def get_curve1(R):\n",
    "    \"\"\"\n",
    "    recursively calculate number of new cases\n",
    "    \"\"\"\n",
    "    global GENERATIONS\n",
    "    x=np.arange(GENERATIONS)\n",
    "    y = []\n",
    "    for i in range(len(x)):\n",
    "        if i>0:\n",
    "            y.append( R * y[i-1] )\n",
    "        else:\n",
    "            y.append(1)\n",
    "    return x,y\n",
    "\n",
    "\n",
    "# FIRST SHOT - LIMITS\n",
    "x0,y0 = get_curve1(R )\n",
    "x1,y1 = get_curve1(R-0.1)\n",
    "\n",
    "plt.plot(x0,y0,\"r.-\", label=\"R=1.4\")\n",
    "plt.plot(x1,y1,\"b.-\", label=\"R=1.3\")\n",
    "\n",
    "#plt.yscale(\"log\")\n",
    "plt.grid()\n",
    "plt.xticks(range(18))\n",
    "plt.xlabel(\"generation\")\n",
    "plt.ylabel(\"cases per day\")\n",
    "\n",
    "plt.legend()"
   ]
  },
  {
   "cell_type": "markdown",
   "metadata": {},
   "source": [
    "## Recurent part 2\n",
    "\n",
    "\n",
    "*to use a general picture for generations, we introduce a some more variables and compare with real data*\n",
    "\n",
    "- we get some **real** data (Fridays in September in Czech Republic # https://www.novinky.cz/koronavirus/clanek/prehledne-jak-je-na-tom-vas-kraj-v-poctu-testovanych-a-nakazenych-40316485\n",
    ")\n",
    "- the  `get_curve` does a recurent calculation with R\n",
    "   - R is the infamous `R` nuber\n",
    "   - **Added now is**\n",
    "   - $F$ a scaling factor for one generation (in days)\n",
    "   - $N_0$ is some initial number of infected\n",
    "   - $T_0$ is the day of the year, the time when $N_0$ is infected \n",
    "   \n",
    "\n",
    "The plot (now in **LOG** scale that is better for the exponential behaviour) shows DATA and two **ad hoc** estimations   \n",
    "\n",
    "Factor $F$ for real data is correlated with $R$, as shown in the correlation matrix at the end of analytical part.\n"
   ]
  },
  {
   "cell_type": "code",
   "execution_count": 18,
   "metadata": {},
   "outputs": [
    {
     "data": {
      "text/plain": [
       "<matplotlib.legend.Legend at 0x7f0c33d37f10>"
      ]
     },
     "execution_count": 18,
     "metadata": {},
     "output_type": "execute_result"
    },
    {
     "data": {
      "image/png": "[encoded data removed]",
      "text/plain": [
       "<Figure size 432x288 with 1 Axes>"
      ]
     },
     "metadata": {
      "needs_background": "light"
     },
     "output_type": "display_data"
    }
   ],
   "source": [
    "import numpy as np\n",
    "import matplotlib.pyplot as plt\n",
    "from iminuit import Minuit\n",
    "\n",
    "#1.9. UT 245.  #8.9.  15 22 29\n",
    "#248   PA 4. 11  18  25.9  2.10 9.10\n",
    "\n",
    "# experimental data from  weekly 4.10 - 9.10\n",
    "# https://www.novinky.cz/koronavirus/clanek/prehledne-jak-je-na-tom-vas-kraj-v-poctu-testovanych-a-nakazenych-40316485\n",
    "xe = [245, 252,  259,  266,  273, 280,  287]\n",
    "ye = [797, 1443, 2108, 2947, 3794, 8616, 11104]\n",
    "\n",
    "# recurent calculation: generation[n+1] =  generation[n] *R\n",
    "#   N0 - number of cases in day 1\n",
    "#   T0 - day 1\n",
    "#   F  - period for 1 generation in days\n",
    "POINTS = 18 # generations\n",
    "R = 1.4     # R\n",
    "F = 4.5     # contagious days\n",
    "N0 = 100    # infected  in day 1\n",
    "T0 = 214    # day 1\n",
    "\n",
    "def get_curve(R,F,N0,T0):\n",
    "    \"\"\"\n",
    "    recursively calculate number of new cases\n",
    "    \"\"\"\n",
    "    global POINTS\n",
    "    x=np.arange(POINTS)\n",
    "    x= F*x + T0\n",
    "    y = []\n",
    "    for i in range(len(x)):\n",
    "        if i>0:\n",
    "            y.append( R * y[i-1] )\n",
    "        else:\n",
    "            y.append(N0)\n",
    "    return x,y\n",
    "\n",
    "\n",
    "# FIRST SHOT - LIMITS\n",
    "x0,y0 = get_curve(R  ,F,     N0,T0)\n",
    "x1,y1 = get_curve(R-0.1,F,  N0,T0)\n",
    "\n",
    "plt.plot(x0,y0,\"r.\", label=\"R=1.4\")\n",
    "plt.plot(x1,y1,\"b.\", label=\"R=1.3\")\n",
    "plt.plot(xe,ye,\"ko\", label=\"EXP.DATA\")\n",
    "\n",
    "plt.yscale(\"log\")\n",
    "plt.grid()\n",
    "plt.xlabel(\"day in year\")\n",
    "plt.ylabel(\"cases per day\")\n",
    "\n",
    "plt.legend()"
   ]
  },
  {
   "cell_type": "markdown",
   "metadata": {},
   "source": [
    "## Analytical part\n",
    "\n",
    "Recurent model is fine. But there is a great correspondence with analytical form, that describes the exponential behavior. We have simple tools that work great with analytical functions.\n",
    "\n",
    "Here is shown the link between **recurent form**  and **exponential function**, including the parameters `R` and time connected parameters $t_0$, $F$, $N_0$\n",
    "\n",
    "- `gen_fun` is just an exponential $N_0 R^{1/F(t-t_0)}$\n",
    "- `lq` is a least squares function, that is used for a standard $\\chi^2$ minimization\n",
    "- we fix $F$ - the time of the generation as an arbitrary number 5.5 days\n",
    "- we fix $N_0$ to 1, as number of cases at $t_0$\n",
    "\n",
    "$F$ is correlated with $R$"
   ]
  },
  {
   "cell_type": "code",
   "execution_count": 21,
   "metadata": {},
   "outputs": [
    {
     "name": "stdout",
     "output_type": "stream",
     "text": [
      "<ValueView of Minuit at 2f92770>\n",
      "  R: 1.4103777197546403\n",
      "  F: 5.5\n",
      "  N0: 1.0\n",
      "  T0: 137.48437052119652\n",
      "R = 1.410 +/- 0.004\n",
      "F = 5.500 +/- 0.055\n",
      "N0 = 1.000 +/- 0.010\n",
      "T0 = 137.484 +/- 1.174\n"
     ]
    },
    {
     "name": "stderr",
     "output_type": "stream",
     "text": [
      "<ipython-input-21-fd6e5e33fa2d>:26: InitialParamWarning: errordef is not given, defaults to 1.\n",
      "  m = Minuit(lq, R=1.3,F=5.5,N0=1,T0=220, fix_N0=True, fix_F=True)\n"
     ]
    },
    {
     "data": {
      "text/html": [
       "<table>\n",
       "    <tr>\n",
       "        <td></td>\n",
       "        <th> R </th>\n",
       "        <th> T0 </th>\n",
       "    </tr>\n",
       "    <tr>\n",
       "        <th> R </th>\n",
       "        <td> 1.00 </td>\n",
       "        <td style=\"background-color:rgb(250,100,100);color:black\">  1.00 </td>\n",
       "    </tr>\n",
       "    <tr>\n",
       "        <th> T0 </th>\n",
       "        <td style=\"background-color:rgb(250,100,100);color:black\">  1.00 </td>\n",
       "        <td> 1.00 </td>\n",
       "    </tr>\n",
       "</table>"
      ],
      "text/plain": [
       "┌────┬─────────────┐\n",
       "│    │     R    T0 │\n",
       "├────┼─────────────┤\n",
       "│  R │ 1.000 0.999 │\n",
       "│ T0 │ 0.999 1.000 │\n",
       "└────┴─────────────┘"
      ]
     },
     "execution_count": 21,
     "metadata": {},
     "output_type": "execute_result"
    },
    {
     "data": {
      "image/png": "[encoded data removed]",
      "text/plain": [
       "<Figure size 432x288 with 1 Axes>"
      ]
     },
     "metadata": {
      "needs_background": "light"
     },
     "output_type": "display_data"
    }
   ],
   "source": [
    "def gen_fun(x, R=1.3,F=3.5,N0=100,T0=220):\n",
    "    \"\"\"\n",
    "    exponential function that corresponds to recurasive calculation\n",
    "    \"\"\"\n",
    "    x2 = 1/F*(x - T0)\n",
    "    y = N0 * R ** (x2)\n",
    "    return y\n",
    "\n",
    "\n",
    "def lq(R=1.3,F=3.5,N0=100,T0=220):\n",
    "    \"\"\"\n",
    "    Least squares - compare data with gen_fun result\n",
    "    \"\"\"\n",
    "    gen_fun_v = np.vectorize(gen_fun)\n",
    "    ye2 = gen_fun_v(xe,R,F,N0,T0)\n",
    "    chi2=(ye-ye2)**2\n",
    "    return chi2.sum()**0.5\n",
    "    \n",
    "# FIRST SHOT - LIMITS\n",
    "#x0,y0 = get_curve(R  ,F,     N0,T0)\n",
    "#x1,y1 = get_curve(R-0.08,F,  N0,T0)\n",
    "\n",
    "gen_fun_v = np.vectorize(gen_fun)\n",
    "ye2 = gen_fun_v(xe)\n",
    "\n",
    "m = Minuit(lq, R=1.3,F=5.5,N0=1,T0=220, fix_N0=True, fix_F=True) \n",
    "\n",
    "m.migrad() # finds minimum of least_squares function\n",
    "m.hesse()  # computes errors \n",
    "\n",
    "print(m.values)\n",
    "\n",
    "plt.plot(xe,ye2,\"co\", label=\"manual trial 1\")\n",
    "\n",
    "plt.plot(xe, gen_fun_v(xe, *m.values.values()), 'r-o', label=\"Least Squares FIT\")\n",
    "\n",
    "plt.plot(xe,ye,\"ko\", label=\"DATA\")\n",
    "\n",
    "plt.yscale(\"log\")\n",
    "plt.grid()\n",
    "plt.legend()\n",
    "plt.xlabel(\"day in year\")\n",
    "plt.ylabel(\"cases per day\")\n",
    "\n",
    "for p in m.parameters:\n",
    "    print(\"{} = {:.3f} +/- {:.3f}\".format(p, m.values[p], m.errors[p]))\n",
    "m.matrix(correlation=True)    "
   ]
  },
  {
   "cell_type": "markdown",
   "metadata": {},
   "source": [
    "Simple model with $F$ fixed to 5.5 gives $R$=1.41\n",
    "\n",
    "More advanced models must use detailed propagation analysis through the regions and age groups."
   ]
  }
 ],
 "metadata": {
  "kernelspec": {
   "display_name": "Python 3",
   "language": "python",
   "name": "python3"
  },
  "language_info": {
   "codemirror_mode": {
    "name": "ipython",
    "version": 3
   },
   "file_extension": ".py",
   "mimetype": "text/x-python",
   "name": "python",
   "nbconvert_exporter": "python",
   "pygments_lexer": "ipython3",
   "version": "3.8.5"
  }
 },
 "nbformat": 4,
 "nbformat_minor": 4
}
